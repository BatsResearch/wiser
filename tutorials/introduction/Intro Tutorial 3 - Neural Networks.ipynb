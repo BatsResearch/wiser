{
 "cells": [
  {
   "cell_type": "markdown",
   "metadata": {},
   "source": [
    "# An Introduction to WISER, Part 3: Neural Networks"
   ]
  },
  {
   "cell_type": "markdown",
   "metadata": {},
   "source": [
    "In this part of the tutorial, we use the probabilistic labels of the generative model to train a state-of-the-art recurrent neural network. We will use a bi-LSTM-CRF to improve the generalization of the link-HMM\n",
    "\n",
    "To begin, we will enable logging to keep track of the training logs. You may observe this in the terminal used to open this notebook."
   ]
  },
  {
   "cell_type": "code",
   "execution_count": 1,
   "metadata": {},
   "outputs": [],
   "source": [
    "import logging\n",
    "\n",
    "logger = logging.getLogger()\n",
    "logger.setLevel(logging.DEBUG)"
   ]
  },
  {
   "cell_type": "markdown",
   "metadata": {},
   "source": [
    "## Training a Neural Network"
   ]
  },
  {
   "cell_type": "markdown",
   "metadata": {},
   "source": [
    "To train your bi-LSTM-CRF network, you first need to define an [AllenNLP configuration file](https://github.com/allenai/allennlp/blob/master/tutorials/getting_started/walk_through_allennlp/configuration.md). These files provide a versatile way of defining neural networks, detailing all the model parameters. For this tutorial, we have already provided a configuration file, but feel free to edit it or use your own"
   ]
  },
  {
   "cell_type": "markdown",
   "metadata": {},
   "source": [
    "We have provided the wrapper method ``train_discriminative_model`` on ``wiser.discriminative`` that you can use to . \n",
    "To train a bi-LSTM-CRF on the link HMM's probabilistic output, you need to call the method and pass it in the location of the generative models' output. You may also specify the cuda device and random seed for training. \n",
    "\n",
    "During training, tou should be able to observe logs on the terminal used to open this notebook. TODO: Mention that they shouldn't expect an evolution of train scores"
   ]
  },
  {
   "cell_type": "code",
   "execution_count": null,
   "metadata": {},
   "outputs": [],
   "source": [
    "from wiser.discriminative import train_discriminative_model\n",
    "\n",
    "train_discriminative_model(\n",
    "    train_data_path='output/generative/link_hmm/train_data.p',\n",
    "    dev_data_path='output/generative/link_hmm/dev_data.p',\n",
    "    test_data_path='output/generative/link_hmm/test_data.p',\n",
    "    train_config_path='training_config/tutorial.jsonnet',\n",
    "    output_path='output/discriminative/link_hmm',\n",
    "    cuda_device=-1)"
   ]
  },
  {
   "cell_type": "markdown",
   "metadata": {},
   "source": [
    "## Predicting Tags"
   ]
  },
  {
   "cell_type": "code",
   "execution_count": null,
   "metadata": {},
   "outputs": [],
   "source": [
    "# TODO"
   ]
  }
 ],
 "metadata": {
  "kernelspec": {
   "display_name": "Python 3",
   "language": "python",
   "name": "python3"
  },
  "language_info": {
   "codemirror_mode": {
    "name": "ipython",
    "version": 3
   },
   "file_extension": ".py",
   "mimetype": "text/x-python",
   "name": "python",
   "nbconvert_exporter": "python",
   "pygments_lexer": "ipython3",
   "version": "3.7.2"
  }
 },
 "nbformat": 4,
 "nbformat_minor": 2
}
