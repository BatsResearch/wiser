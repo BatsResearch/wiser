{
 "cells": [
  {
   "cell_type": "code",
   "execution_count": 1,
   "metadata": {},
   "outputs": [],
   "source": [
    "%load_ext autoreload\n",
    "%autoreload 2\n",
    "import sys\n",
    "sys.path.append('../../..')\n",
    "from wiser.data.util import save_label_distribution"
   ]
  },
  {
   "cell_type": "markdown",
   "metadata": {},
   "source": [
    "## Reloads Data"
   ]
  },
  {
   "cell_type": "code",
   "execution_count": 2,
   "metadata": {},
   "outputs": [],
   "source": [
    "import pickle\n",
    "\n",
    "with open('/data/bats/results/ner-ws/conll/train_data.p', 'rb') as f:\n",
    "    train_data_steve = pickle.load(f)\n",
    "\n",
    "with open('/data/bats/results/ner-ws/conll/dev_data.p', 'rb') as f:\n",
    "    dev_data_steve = pickle.load(f)\n",
    "    \n",
    "with open('/data/bats/results/ner-ws/conll/test_data.p', 'rb') as f:\n",
    "    test_data_steve = pickle.load(f)\n",
    "    \n",
    "test_data = test_data_steve\n",
    "train_data = train_data_steve\n",
    "dev_data = dev_data_steve"
   ]
  },
  {
   "cell_type": "code",
   "execution_count": 3,
   "metadata": {},
   "outputs": [],
   "source": [
    "from collections import Counter\n",
    "cnt = Counter()\n",
    "for instance in train_data:\n",
    "    for tag in instance['tags']:\n",
    "        cnt[tag] += 1\n",
    "        \n",
    "disc_label_to_ix = {value[0]: ix for ix, value in enumerate(cnt.most_common())}"
   ]
  },
  {
   "cell_type": "code",
   "execution_count": 4,
   "metadata": {},
   "outputs": [],
   "source": [
    "gen_label_to_ix = {'ABS': 0, 'O': 1, 'I-PER': 2, 'I-LOC': 3, 'I-ORG': 4, 'I-MISC': 5, 'B-PER': 6, 'B-LOC': 7, 'B-ORG': 8, 'B-MISC': 9}\n",
    "\n",
    "\n",
    "labeling_functions = set()\n",
    "linking_functions = set()\n",
    "for doc in train_data:\n",
    "    for name in doc['WISER_LABELS'].keys():\n",
    "        labeling_functions.add(name)\n",
    "    for name in doc['WISER_LINKS'].keys():\n",
    "        linking_functions.add(name)"
   ]
  },
  {
   "cell_type": "code",
   "execution_count": 5,
   "metadata": {},
   "outputs": [],
   "source": [
    "save_label_distribution('data/test_data.p', test_data)\n",
    "save_label_distribution('data/dev_data.p', dev_data)"
   ]
  },
  {
   "cell_type": "markdown",
   "metadata": {},
   "source": [
    "## Eval"
   ]
  },
  {
   "cell_type": "code",
   "execution_count": 6,
   "metadata": {},
   "outputs": [
    {
     "data": {
      "text/html": [
       "<div>\n",
       "<style scoped>\n",
       "    .dataframe tbody tr th:only-of-type {\n",
       "        vertical-align: middle;\n",
       "    }\n",
       "\n",
       "    .dataframe tbody tr th {\n",
       "        vertical-align: top;\n",
       "    }\n",
       "\n",
       "    .dataframe thead th {\n",
       "        text-align: right;\n",
       "    }\n",
       "</style>\n",
       "<table border=\"1\" class=\"dataframe\">\n",
       "  <thead>\n",
       "    <tr style=\"text-align: right;\">\n",
       "      <th></th>\n",
       "      <th>TP</th>\n",
       "      <th>FP</th>\n",
       "      <th>FN</th>\n",
       "      <th>Token Acc.</th>\n",
       "      <th>Token Votes</th>\n",
       "    </tr>\n",
       "  </thead>\n",
       "  <tbody>\n",
       "    <tr>\n",
       "      <th>ConsecutiveLowerCase</th>\n",
       "      <td>0</td>\n",
       "      <td>0</td>\n",
       "      <td>5943</td>\n",
       "      <td>0.9993</td>\n",
       "      <td>26640</td>\n",
       "    </tr>\n",
       "    <tr>\n",
       "      <th>CountryAbbrvs</th>\n",
       "      <td>113</td>\n",
       "      <td>18</td>\n",
       "      <td>5830</td>\n",
       "      <td>0.8779</td>\n",
       "      <td>131</td>\n",
       "    </tr>\n",
       "    <tr>\n",
       "      <th>DBPediaMISC</th>\n",
       "      <td>393</td>\n",
       "      <td>110</td>\n",
       "      <td>5550</td>\n",
       "      <td>0.8484</td>\n",
       "      <td>521</td>\n",
       "    </tr>\n",
       "    <tr>\n",
       "      <th>DBpediaCountries</th>\n",
       "      <td>807</td>\n",
       "      <td>39</td>\n",
       "      <td>5136</td>\n",
       "      <td>0.9617</td>\n",
       "      <td>914</td>\n",
       "    </tr>\n",
       "    <tr>\n",
       "      <th>DBpediaORG</th>\n",
       "      <td>161</td>\n",
       "      <td>132</td>\n",
       "      <td>5782</td>\n",
       "      <td>0.7277</td>\n",
       "      <td>459</td>\n",
       "    </tr>\n",
       "    <tr>\n",
       "      <th>DBpediaPeople</th>\n",
       "      <td>639</td>\n",
       "      <td>24</td>\n",
       "      <td>5304</td>\n",
       "      <td>0.9932</td>\n",
       "      <td>1320</td>\n",
       "    </tr>\n",
       "    <tr>\n",
       "      <th>DBpediaPopPlaces</th>\n",
       "      <td>964</td>\n",
       "      <td>257</td>\n",
       "      <td>4979</td>\n",
       "      <td>0.7901</td>\n",
       "      <td>1339</td>\n",
       "    </tr>\n",
       "    <tr>\n",
       "      <th>FirstNames</th>\n",
       "      <td>288</td>\n",
       "      <td>1082</td>\n",
       "      <td>5655</td>\n",
       "      <td>0.8502</td>\n",
       "      <td>1589</td>\n",
       "    </tr>\n",
       "    <tr>\n",
       "      <th>LongLowerCase</th>\n",
       "      <td>0</td>\n",
       "      <td>0</td>\n",
       "      <td>5943</td>\n",
       "      <td>0.9979</td>\n",
       "      <td>13570</td>\n",
       "    </tr>\n",
       "    <tr>\n",
       "      <th>MiscAdj</th>\n",
       "      <td>14</td>\n",
       "      <td>9</td>\n",
       "      <td>5929</td>\n",
       "      <td>0.9649</td>\n",
       "      <td>57</td>\n",
       "    </tr>\n",
       "    <tr>\n",
       "      <th>MiscLastWord</th>\n",
       "      <td>65</td>\n",
       "      <td>47</td>\n",
       "      <td>5878</td>\n",
       "      <td>0.8634</td>\n",
       "      <td>227</td>\n",
       "    </tr>\n",
       "    <tr>\n",
       "      <th>Numbers</th>\n",
       "      <td>0</td>\n",
       "      <td>0</td>\n",
       "      <td>5943</td>\n",
       "      <td>0.9935</td>\n",
       "      <td>4282</td>\n",
       "    </tr>\n",
       "    <tr>\n",
       "      <th>OrgLastWord</th>\n",
       "      <td>67</td>\n",
       "      <td>159</td>\n",
       "      <td>5876</td>\n",
       "      <td>0.8174</td>\n",
       "      <td>438</td>\n",
       "    </tr>\n",
       "    <tr>\n",
       "      <th>Pronouns</th>\n",
       "      <td>0</td>\n",
       "      <td>0</td>\n",
       "      <td>5943</td>\n",
       "      <td>0.9965</td>\n",
       "      <td>856</td>\n",
       "    </tr>\n",
       "    <tr>\n",
       "      <th>Punctuation</th>\n",
       "      <td>0</td>\n",
       "      <td>0</td>\n",
       "      <td>5943</td>\n",
       "      <td>0.9937</td>\n",
       "      <td>6710</td>\n",
       "    </tr>\n",
       "    <tr>\n",
       "      <th>Said</th>\n",
       "      <td>93</td>\n",
       "      <td>135</td>\n",
       "      <td>5850</td>\n",
       "      <td>0.6228</td>\n",
       "      <td>228</td>\n",
       "    </tr>\n",
       "    <tr>\n",
       "      <th>SecondNames</th>\n",
       "      <td>856</td>\n",
       "      <td>1197</td>\n",
       "      <td>5087</td>\n",
       "      <td>0.7166</td>\n",
       "      <td>2608</td>\n",
       "    </tr>\n",
       "    <tr>\n",
       "      <th>VerbOrAdv</th>\n",
       "      <td>0</td>\n",
       "      <td>0</td>\n",
       "      <td>5943</td>\n",
       "      <td>0.9900</td>\n",
       "      <td>7409</td>\n",
       "    </tr>\n",
       "    <tr>\n",
       "      <th>YAGO_Companies</th>\n",
       "      <td>103</td>\n",
       "      <td>42</td>\n",
       "      <td>5840</td>\n",
       "      <td>0.9100</td>\n",
       "      <td>200</td>\n",
       "    </tr>\n",
       "    <tr>\n",
       "      <th>YAGO_ORG</th>\n",
       "      <td>29</td>\n",
       "      <td>5</td>\n",
       "      <td>5914</td>\n",
       "      <td>1.0000</td>\n",
       "      <td>64</td>\n",
       "    </tr>\n",
       "  </tbody>\n",
       "</table>\n",
       "</div>"
      ],
      "text/plain": [
       "                       TP    FP    FN  Token Acc.  Token Votes\n",
       "ConsecutiveLowerCase    0     0  5943      0.9993        26640\n",
       "CountryAbbrvs         113    18  5830      0.8779          131\n",
       "DBPediaMISC           393   110  5550      0.8484          521\n",
       "DBpediaCountries      807    39  5136      0.9617          914\n",
       "DBpediaORG            161   132  5782      0.7277          459\n",
       "DBpediaPeople         639    24  5304      0.9932         1320\n",
       "DBpediaPopPlaces      964   257  4979      0.7901         1339\n",
       "FirstNames            288  1082  5655      0.8502         1589\n",
       "LongLowerCase           0     0  5943      0.9979        13570\n",
       "MiscAdj                14     9  5929      0.9649           57\n",
       "MiscLastWord           65    47  5878      0.8634          227\n",
       "Numbers                 0     0  5943      0.9935         4282\n",
       "OrgLastWord            67   159  5876      0.8174          438\n",
       "Pronouns                0     0  5943      0.9965          856\n",
       "Punctuation             0     0  5943      0.9937         6710\n",
       "Said                   93   135  5850      0.6228          228\n",
       "SecondNames           856  1197  5087      0.7166         2608\n",
       "VerbOrAdv               0     0  5943      0.9900         7409\n",
       "YAGO_Companies        103    42  5840      0.9100          200\n",
       "YAGO_ORG               29     5  5914      1.0000           64"
      ]
     },
     "execution_count": 6,
     "metadata": {},
     "output_type": "execute_result"
    }
   ],
   "source": [
    "from wiser.eval import score_labeling_functions, score_labels_majority_vote\n",
    "\n",
    "score_labeling_functions(dev_data)"
   ]
  },
  {
   "cell_type": "code",
   "execution_count": 7,
   "metadata": {
    "scrolled": true
   },
   "outputs": [
    {
     "data": {
      "text/html": [
       "<div>\n",
       "<style scoped>\n",
       "    .dataframe tbody tr th:only-of-type {\n",
       "        vertical-align: middle;\n",
       "    }\n",
       "\n",
       "    .dataframe tbody tr th {\n",
       "        vertical-align: top;\n",
       "    }\n",
       "\n",
       "    .dataframe thead th {\n",
       "        text-align: right;\n",
       "    }\n",
       "</style>\n",
       "<table border=\"1\" class=\"dataframe\">\n",
       "  <thead>\n",
       "    <tr style=\"text-align: right;\">\n",
       "      <th></th>\n",
       "      <th>TP</th>\n",
       "      <th>FP</th>\n",
       "      <th>FN</th>\n",
       "      <th>P</th>\n",
       "      <th>R</th>\n",
       "      <th>F1</th>\n",
       "    </tr>\n",
       "  </thead>\n",
       "  <tbody>\n",
       "    <tr>\n",
       "      <th>Majority Vote (Token Level)</th>\n",
       "      <td>4957</td>\n",
       "      <td>998</td>\n",
       "      <td>3646</td>\n",
       "      <td>0.8324</td>\n",
       "      <td>0.5762</td>\n",
       "      <td>0.681</td>\n",
       "    </tr>\n",
       "  </tbody>\n",
       "</table>\n",
       "</div>"
      ],
      "text/plain": [
       "                               TP   FP    FN       P       R     F1\n",
       "Majority Vote (Token Level)  4957  998  3646  0.8324  0.5762  0.681"
      ]
     },
     "execution_count": 7,
     "metadata": {},
     "output_type": "execute_result"
    }
   ],
   "source": [
    "score_labels_majority_vote(dev_data, span_level=False)"
   ]
  },
  {
   "cell_type": "markdown",
   "metadata": {},
   "source": [
    "## Majority Vote"
   ]
  },
  {
   "cell_type": "code",
   "execution_count": 8,
   "metadata": {},
   "outputs": [],
   "source": [
    "from wiser.eval import score_labels_majority_vote, get_mv_label_distribution\n",
    "from wiser.eval import get_unweighted_label_distribution"
   ]
  },
  {
   "cell_type": "code",
   "execution_count": 9,
   "metadata": {},
   "outputs": [
    {
     "data": {
      "text/html": [
       "<div>\n",
       "<style scoped>\n",
       "    .dataframe tbody tr th:only-of-type {\n",
       "        vertical-align: middle;\n",
       "    }\n",
       "\n",
       "    .dataframe tbody tr th {\n",
       "        vertical-align: top;\n",
       "    }\n",
       "\n",
       "    .dataframe thead th {\n",
       "        text-align: right;\n",
       "    }\n",
       "</style>\n",
       "<table border=\"1\" class=\"dataframe\">\n",
       "  <thead>\n",
       "    <tr style=\"text-align: right;\">\n",
       "      <th></th>\n",
       "      <th>TP</th>\n",
       "      <th>FP</th>\n",
       "      <th>FN</th>\n",
       "      <th>P</th>\n",
       "      <th>R</th>\n",
       "      <th>F1</th>\n",
       "    </tr>\n",
       "  </thead>\n",
       "  <tbody>\n",
       "    <tr>\n",
       "      <th>Majority Vote</th>\n",
       "      <td>3154</td>\n",
       "      <td>1415</td>\n",
       "      <td>2789</td>\n",
       "      <td>0.6903</td>\n",
       "      <td>0.5307</td>\n",
       "      <td>0.6001</td>\n",
       "    </tr>\n",
       "  </tbody>\n",
       "</table>\n",
       "</div>"
      ],
      "text/plain": [
       "                 TP    FP    FN       P       R      F1\n",
       "Majority Vote  3154  1415  2789  0.6903  0.5307  0.6001"
      ]
     },
     "execution_count": 9,
     "metadata": {},
     "output_type": "execute_result"
    }
   ],
   "source": [
    "score_labels_majority_vote(dev_data)"
   ]
  },
  {
   "cell_type": "code",
   "execution_count": 10,
   "metadata": {
    "scrolled": true
   },
   "outputs": [
    {
     "data": {
      "text/html": [
       "<div>\n",
       "<style scoped>\n",
       "    .dataframe tbody tr th:only-of-type {\n",
       "        vertical-align: middle;\n",
       "    }\n",
       "\n",
       "    .dataframe tbody tr th {\n",
       "        vertical-align: top;\n",
       "    }\n",
       "\n",
       "    .dataframe thead th {\n",
       "        text-align: right;\n",
       "    }\n",
       "</style>\n",
       "<table border=\"1\" class=\"dataframe\">\n",
       "  <thead>\n",
       "    <tr style=\"text-align: right;\">\n",
       "      <th></th>\n",
       "      <th>TP</th>\n",
       "      <th>FP</th>\n",
       "      <th>FN</th>\n",
       "      <th>P</th>\n",
       "      <th>R</th>\n",
       "      <th>F1</th>\n",
       "    </tr>\n",
       "  </thead>\n",
       "  <tbody>\n",
       "    <tr>\n",
       "      <th>Majority Vote (Token Level)</th>\n",
       "      <td>4957</td>\n",
       "      <td>998</td>\n",
       "      <td>3646</td>\n",
       "      <td>0.8324</td>\n",
       "      <td>0.5762</td>\n",
       "      <td>0.681</td>\n",
       "    </tr>\n",
       "  </tbody>\n",
       "</table>\n",
       "</div>"
      ],
      "text/plain": [
       "                               TP   FP    FN       P       R     F1\n",
       "Majority Vote (Token Level)  4957  998  3646  0.8324  0.5762  0.681"
      ]
     },
     "execution_count": 10,
     "metadata": {},
     "output_type": "execute_result"
    }
   ],
   "source": [
    "score_labels_majority_vote(dev_data, span_level=False)"
   ]
  },
  {
   "cell_type": "code",
   "execution_count": 11,
   "metadata": {},
   "outputs": [],
   "source": [
    "dist = get_mv_label_distribution(train_data, disc_label_to_ix, 'O')\n",
    "save_label_distribution('data/train_data_mv_labels.p', train_data, dist)"
   ]
  },
  {
   "cell_type": "code",
   "execution_count": 12,
   "metadata": {},
   "outputs": [],
   "source": [
    "dist = get_unweighted_label_distribution(train_data, disc_label_to_ix, 'O')\n",
    "save_label_distribution('data/train_data_unweighted_labels.p', train_data, dist)"
   ]
  },
  {
   "cell_type": "markdown",
   "metadata": {},
   "source": [
    "## Generative Modeling"
   ]
  },
  {
   "cell_type": "code",
   "execution_count": 13,
   "metadata": {},
   "outputs": [],
   "source": [
    "from experiments.util import train_generative_model, get_gen_model_inputs\n",
    "from labelmodels import NaiveBayes, HMM, LinkedHMM, LearningConfig\n",
    "import numpy as np"
   ]
  },
  {
   "cell_type": "code",
   "execution_count": 14,
   "metadata": {},
   "outputs": [],
   "source": [
    "epochs = 5"
   ]
  },
  {
   "cell_type": "markdown",
   "metadata": {},
   "source": [
    "### Naive Bayes"
   ]
  },
  {
   "cell_type": "code",
   "execution_count": 15,
   "metadata": {
    "scrolled": true
   },
   "outputs": [],
   "source": [
    "config = LearningConfig()\n",
    "nb = NaiveBayes(len(disc_label_to_ix), len(labeling_functions), init_acc=0.9,\n",
    "                   acc_prior=0.01, balance_prior=5.0)\n",
    "p, r, f1 = train_generative_model(nb, train_data, dev_data,\n",
    "                                  epochs, gen_label_to_ix, config)"
   ]
  },
  {
   "cell_type": "code",
   "execution_count": 16,
   "metadata": {},
   "outputs": [
    {
     "name": "stdout",
     "output_type": "stream",
     "text": [
      "0.6908\n",
      "0.5443\n",
      "0.6089\n"
     ]
    }
   ],
   "source": [
    "print(p)\n",
    "print(r)\n",
    "print(f1)"
   ]
  },
  {
   "cell_type": "code",
   "execution_count": 17,
   "metadata": {},
   "outputs": [],
   "source": [
    "label_votes, link_votes, seq_starts = get_gen_model_inputs(train_data, gen_label_to_ix)\n",
    "dist = nb.get_label_distribution(label_votes)"
   ]
  },
  {
   "cell_type": "code",
   "execution_count": 18,
   "metadata": {},
   "outputs": [],
   "source": [
    "instances = save_label_distribution('data/train_data_nb_labels.p', train_data, dist)"
   ]
  },
  {
   "cell_type": "markdown",
   "metadata": {},
   "source": [
    "### HMM"
   ]
  },
  {
   "cell_type": "code",
   "execution_count": 19,
   "metadata": {
    "scrolled": true
   },
   "outputs": [],
   "source": [
    "config = LearningConfig()\n",
    "config.batch_size = 16\n",
    "hmm = HMM(len(disc_label_to_ix), len(labeling_functions), init_acc=0.7,\n",
    "                   acc_prior=100, balance_prior=500)\n",
    "p, r, f1 = train_generative_model(hmm, train_data, dev_data,\n",
    "                                  epochs, gen_label_to_ix, config)"
   ]
  },
  {
   "cell_type": "code",
   "execution_count": 20,
   "metadata": {},
   "outputs": [
    {
     "name": "stdout",
     "output_type": "stream",
     "text": [
      "0.6544\n",
      "0.5088\n",
      "0.5725\n"
     ]
    }
   ],
   "source": [
    "print(p)\n",
    "print(r)\n",
    "print(f1)"
   ]
  },
  {
   "cell_type": "code",
   "execution_count": 21,
   "metadata": {},
   "outputs": [],
   "source": [
    "label_votes, link_votes, seq_starts = get_gen_model_inputs(train_data, gen_label_to_ix)\n",
    "p_unary, p_pairwise = hmm.get_label_distribution(label_votes, seq_starts)"
   ]
  },
  {
   "cell_type": "code",
   "execution_count": 22,
   "metadata": {},
   "outputs": [],
   "source": [
    "instances = save_label_distribution('data/train_data_hmm_labels.p', train_data, p_unary, p_pairwise)"
   ]
  },
  {
   "cell_type": "markdown",
   "metadata": {},
   "source": [
    "### Linked HMM"
   ]
  },
  {
   "cell_type": "code",
   "execution_count": null,
   "metadata": {
    "scrolled": true
   },
   "outputs": [],
   "source": [
    "config = LearningConfig()\n",
    "config.batch_size = 16\n",
    "link_hmm = LinkedHMM(len(disc_label_to_ix), len(labeling_functions), len(linking_functions),\n",
    "                  init_acc=0.7, acc_prior=100, balance_prior=500)\n",
    "p, r, f1 = train_generative_model(link_hmm, train_data, dev_data,\n",
    "                                  5, gen_label_to_ix, config)"
   ]
  },
  {
   "cell_type": "code",
   "execution_count": null,
   "metadata": {},
   "outputs": [],
   "source": [
    "print(p)\n",
    "print(r)\n",
    "print(f1)"
   ]
  },
  {
   "cell_type": "code",
   "execution_count": null,
   "metadata": {},
   "outputs": [],
   "source": [
    "link_hmm.get_accuracies()"
   ]
  },
  {
   "cell_type": "code",
   "execution_count": null,
   "metadata": {
    "scrolled": true
   },
   "outputs": [],
   "source": [
    "label_votes, link_votes, seq_starts = get_gen_model_inputs(train_data, gen_label_to_ix)\n",
    "p_unary, p_pairwise = link_hmm.get_label_distribution(label_votes, link_votes, seq_starts)"
   ]
  },
  {
   "cell_type": "code",
   "execution_count": null,
   "metadata": {},
   "outputs": [],
   "source": [
    "instances = save_label_distribution('data/train_data_link_hmm_labels.p',  train_data, p_unary, p_pairwise)"
   ]
  },
  {
   "cell_type": "markdown",
   "metadata": {},
   "source": [
    "\n",
    "\n",
    "\n",
    "\n",
    "\n",
    "End of Part 2"
   ]
  }
 ],
 "metadata": {
  "kernelspec": {
   "display_name": "Python 3",
   "language": "python",
   "name": "python3"
  },
  "language_info": {
   "codemirror_mode": {
    "name": "ipython",
    "version": 3
   },
   "file_extension": ".py",
   "mimetype": "text/x-python",
   "name": "python",
   "nbconvert_exporter": "python",
   "pygments_lexer": "ipython3",
   "version": "3.7.0"
  }
 },
 "nbformat": 4,
 "nbformat_minor": 2
}
