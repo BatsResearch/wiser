{
 "cells": [
  {
   "cell_type": "code",
   "execution_count": 1,
   "metadata": {},
   "outputs": [],
   "source": [
    "%load_ext autoreload\n",
    "%autoreload 2\n",
    "\n",
    "import sys\n",
    "sys.path.append('../../..')\n",
    "import os\n",
    "import allennlp\n",
    "from allennlp.data import Instance\n",
    "from allennlp.data.fields import ArrayField\n",
    "import numpy as np\n",
    "from wiser.data.util import save_label_distribution\n",
    "\n",
    "import pickle"
   ]
  },
  {
   "cell_type": "markdown",
   "metadata": {},
   "source": [
    "## Reloads Data"
   ]
  },
  {
   "cell_type": "code",
   "execution_count": 2,
   "metadata": {},
   "outputs": [],
   "source": [
    "with open('tmp/train_data.p', 'rb') as f:\n",
    "    train_data = pickle.load(f)\n",
    "            \n",
    "with open('tmp/dev_data.p', 'rb') as f:\n",
    "    dev_data = pickle.load(f)\n",
    "\n",
    "with open('tmp/test_data.p', 'rb') as f:\n",
    "    test_data = pickle.load(f)"
   ]
  },
  {
   "cell_type": "code",
   "execution_count": 3,
   "metadata": {},
   "outputs": [],
   "source": [
    "from collections import Counter\n",
    "\n",
    "cnt = Counter()\n",
    "for instance in train_data:\n",
    "    for tag in instance['tags']:\n",
    "        cnt[tag] += 1\n",
    "        \n",
    "disc_label_to_ix = {value[0]: ix for ix, value in enumerate(cnt.most_common())}\n",
    "gen_label_to_ix = {'ABS': 0, 'O': 1, 'I': 2, 'B': 3}\n",
    "\n",
    "count = 0\n",
    "\n",
    "labeling_functions = set()\n",
    "linking_functions = set()\n",
    "for doc in train_data:\n",
    "    count += 1\n",
    "    for name in doc['WISER_LABELS'].keys():\n",
    "        labeling_functions.add(name)\n",
    "    for name in doc['WISER_LINKS'].keys():\n",
    "        linking_functions.add(name)"
   ]
  },
  {
   "cell_type": "code",
   "execution_count": 4,
   "metadata": {},
   "outputs": [],
   "source": [
    "save_label_distribution('data/test_data.p', test_data)\n",
    "save_label_distribution('data/dev_data.p', dev_data)"
   ]
  },
  {
   "cell_type": "markdown",
   "metadata": {},
   "source": [
    "## Eval"
   ]
  },
  {
   "cell_type": "code",
   "execution_count": 5,
   "metadata": {},
   "outputs": [
    {
     "data": {
      "text/html": [
       "<div>\n",
       "<style scoped>\n",
       "    .dataframe tbody tr th:only-of-type {\n",
       "        vertical-align: middle;\n",
       "    }\n",
       "\n",
       "    .dataframe tbody tr th {\n",
       "        vertical-align: top;\n",
       "    }\n",
       "\n",
       "    .dataframe thead th {\n",
       "        text-align: right;\n",
       "    }\n",
       "</style>\n",
       "<table border=\"1\" class=\"dataframe\">\n",
       "  <thead>\n",
       "    <tr style=\"text-align: right;\">\n",
       "      <th></th>\n",
       "      <th>TP</th>\n",
       "      <th>FP</th>\n",
       "      <th>FN</th>\n",
       "      <th>Token Acc.</th>\n",
       "      <th>Token Votes</th>\n",
       "    </tr>\n",
       "  </thead>\n",
       "  <tbody>\n",
       "    <tr>\n",
       "      <th>Acquired Abnormality</th>\n",
       "      <td>10</td>\n",
       "      <td>15</td>\n",
       "      <td>4302</td>\n",
       "      <td>0.4706</td>\n",
       "      <td>34</td>\n",
       "    </tr>\n",
       "    <tr>\n",
       "      <th>Antibiotic</th>\n",
       "      <td>0</td>\n",
       "      <td>0</td>\n",
       "      <td>4312</td>\n",
       "      <td>1.0000</td>\n",
       "      <td>386</td>\n",
       "    </tr>\n",
       "    <tr>\n",
       "      <th>Biologically Active Substance</th>\n",
       "      <td>0</td>\n",
       "      <td>0</td>\n",
       "      <td>4312</td>\n",
       "      <td>0.9801</td>\n",
       "      <td>1304</td>\n",
       "    </tr>\n",
       "    <tr>\n",
       "      <th>BodyTerms</th>\n",
       "      <td>69</td>\n",
       "      <td>42</td>\n",
       "      <td>4243</td>\n",
       "      <td>0.9820</td>\n",
       "      <td>222</td>\n",
       "    </tr>\n",
       "    <tr>\n",
       "      <th>BoundaryWords</th>\n",
       "      <td>228</td>\n",
       "      <td>468</td>\n",
       "      <td>4084</td>\n",
       "      <td>0.8220</td>\n",
       "      <td>1921</td>\n",
       "    </tr>\n",
       "    <tr>\n",
       "      <th>CancerLike</th>\n",
       "      <td>65</td>\n",
       "      <td>27</td>\n",
       "      <td>4247</td>\n",
       "      <td>1.0000</td>\n",
       "      <td>96</td>\n",
       "    </tr>\n",
       "    <tr>\n",
       "      <th>Cell or Molecular Dysfunction</th>\n",
       "      <td>8</td>\n",
       "      <td>24</td>\n",
       "      <td>4304</td>\n",
       "      <td>0.2157</td>\n",
       "      <td>51</td>\n",
       "    </tr>\n",
       "    <tr>\n",
       "      <th>Chemical</th>\n",
       "      <td>0</td>\n",
       "      <td>0</td>\n",
       "      <td>4312</td>\n",
       "      <td>0.9943</td>\n",
       "      <td>176</td>\n",
       "    </tr>\n",
       "    <tr>\n",
       "      <th>Chemical Viewed Functionally</th>\n",
       "      <td>0</td>\n",
       "      <td>0</td>\n",
       "      <td>4312</td>\n",
       "      <td>1.0000</td>\n",
       "      <td>104</td>\n",
       "    </tr>\n",
       "    <tr>\n",
       "      <th>Clinical Drug</th>\n",
       "      <td>0</td>\n",
       "      <td>0</td>\n",
       "      <td>4312</td>\n",
       "      <td>1.0000</td>\n",
       "      <td>67</td>\n",
       "    </tr>\n",
       "    <tr>\n",
       "      <th>CommonFP</th>\n",
       "      <td>0</td>\n",
       "      <td>0</td>\n",
       "      <td>4312</td>\n",
       "      <td>0.9281</td>\n",
       "      <td>1614</td>\n",
       "    </tr>\n",
       "    <tr>\n",
       "      <th>CommonPrefixes</th>\n",
       "      <td>300</td>\n",
       "      <td>108</td>\n",
       "      <td>4012</td>\n",
       "      <td>0.8603</td>\n",
       "      <td>408</td>\n",
       "    </tr>\n",
       "    <tr>\n",
       "      <th>CommonSuffixes</th>\n",
       "      <td>76</td>\n",
       "      <td>66</td>\n",
       "      <td>4236</td>\n",
       "      <td>0.7324</td>\n",
       "      <td>142</td>\n",
       "    </tr>\n",
       "    <tr>\n",
       "      <th>Congenital Abnormality</th>\n",
       "      <td>33</td>\n",
       "      <td>51</td>\n",
       "      <td>4279</td>\n",
       "      <td>0.6569</td>\n",
       "      <td>102</td>\n",
       "    </tr>\n",
       "    <tr>\n",
       "      <th>Disease or Syndrome</th>\n",
       "      <td>1304</td>\n",
       "      <td>503</td>\n",
       "      <td>3008</td>\n",
       "      <td>0.8687</td>\n",
       "      <td>2802</td>\n",
       "    </tr>\n",
       "    <tr>\n",
       "      <th>Element, Ion, or Isotope</th>\n",
       "      <td>0</td>\n",
       "      <td>0</td>\n",
       "      <td>4312</td>\n",
       "      <td>1.0000</td>\n",
       "      <td>395</td>\n",
       "    </tr>\n",
       "    <tr>\n",
       "      <th>EndNounPhrase</th>\n",
       "      <td>0</td>\n",
       "      <td>0</td>\n",
       "      <td>4312</td>\n",
       "      <td>0.9877</td>\n",
       "      <td>28632</td>\n",
       "    </tr>\n",
       "    <tr>\n",
       "      <th>Hazardous or Poisonous Substance</th>\n",
       "      <td>0</td>\n",
       "      <td>0</td>\n",
       "      <td>4312</td>\n",
       "      <td>0.9683</td>\n",
       "      <td>315</td>\n",
       "    </tr>\n",
       "    <tr>\n",
       "      <th>Injury or Poisoning</th>\n",
       "      <td>239</td>\n",
       "      <td>137</td>\n",
       "      <td>4073</td>\n",
       "      <td>0.7462</td>\n",
       "      <td>461</td>\n",
       "    </tr>\n",
       "    <tr>\n",
       "      <th>Inorganic Chemical</th>\n",
       "      <td>0</td>\n",
       "      <td>0</td>\n",
       "      <td>4312</td>\n",
       "      <td>0.9858</td>\n",
       "      <td>422</td>\n",
       "    </tr>\n",
       "    <tr>\n",
       "      <th>Mental or Behavioral Dysfunction</th>\n",
       "      <td>204</td>\n",
       "      <td>171</td>\n",
       "      <td>4108</td>\n",
       "      <td>0.6454</td>\n",
       "      <td>454</td>\n",
       "    </tr>\n",
       "    <tr>\n",
       "      <th>Neoplastic Process</th>\n",
       "      <td>196</td>\n",
       "      <td>97</td>\n",
       "      <td>4116</td>\n",
       "      <td>0.8188</td>\n",
       "      <td>469</td>\n",
       "    </tr>\n",
       "    <tr>\n",
       "      <th>Organic Chemical</th>\n",
       "      <td>0</td>\n",
       "      <td>0</td>\n",
       "      <td>4312</td>\n",
       "      <td>0.9933</td>\n",
       "      <td>3900</td>\n",
       "    </tr>\n",
       "    <tr>\n",
       "      <th>Other Terms</th>\n",
       "      <td>202</td>\n",
       "      <td>23</td>\n",
       "      <td>4110</td>\n",
       "      <td>1.0000</td>\n",
       "      <td>225</td>\n",
       "    </tr>\n",
       "    <tr>\n",
       "      <th>OtherPOS</th>\n",
       "      <td>0</td>\n",
       "      <td>0</td>\n",
       "      <td>4312</td>\n",
       "      <td>0.9937</td>\n",
       "      <td>38221</td>\n",
       "    </tr>\n",
       "    <tr>\n",
       "      <th>Partial Terms</th>\n",
       "      <td>6</td>\n",
       "      <td>449</td>\n",
       "      <td>4306</td>\n",
       "      <td>0.6031</td>\n",
       "      <td>456</td>\n",
       "    </tr>\n",
       "    <tr>\n",
       "      <th>Pharmacologic Substance</th>\n",
       "      <td>0</td>\n",
       "      <td>0</td>\n",
       "      <td>4312</td>\n",
       "      <td>0.9801</td>\n",
       "      <td>4816</td>\n",
       "    </tr>\n",
       "    <tr>\n",
       "      <th>Punctuation</th>\n",
       "      <td>0</td>\n",
       "      <td>0</td>\n",
       "      <td>4312</td>\n",
       "      <td>0.9983</td>\n",
       "      <td>14490</td>\n",
       "    </tr>\n",
       "    <tr>\n",
       "      <th>Sign or Symptom</th>\n",
       "      <td>501</td>\n",
       "      <td>266</td>\n",
       "      <td>3811</td>\n",
       "      <td>0.7987</td>\n",
       "      <td>904</td>\n",
       "    </tr>\n",
       "    <tr>\n",
       "      <th>StopWords</th>\n",
       "      <td>0</td>\n",
       "      <td>0</td>\n",
       "      <td>4312</td>\n",
       "      <td>0.9937</td>\n",
       "      <td>21554</td>\n",
       "    </tr>\n",
       "    <tr>\n",
       "      <th>Vitamin</th>\n",
       "      <td>0</td>\n",
       "      <td>0</td>\n",
       "      <td>4312</td>\n",
       "      <td>1.0000</td>\n",
       "      <td>139</td>\n",
       "    </tr>\n",
       "  </tbody>\n",
       "</table>\n",
       "</div>"
      ],
      "text/plain": [
       "                                    TP   FP    FN  Token Acc.  Token Votes\n",
       "Acquired Abnormality                10   15  4302      0.4706           34\n",
       "Antibiotic                           0    0  4312      1.0000          386\n",
       "Biologically Active Substance        0    0  4312      0.9801         1304\n",
       "BodyTerms                           69   42  4243      0.9820          222\n",
       "BoundaryWords                      228  468  4084      0.8220         1921\n",
       "CancerLike                          65   27  4247      1.0000           96\n",
       "Cell or Molecular Dysfunction        8   24  4304      0.2157           51\n",
       "Chemical                             0    0  4312      0.9943          176\n",
       "Chemical Viewed Functionally         0    0  4312      1.0000          104\n",
       "Clinical Drug                        0    0  4312      1.0000           67\n",
       "CommonFP                             0    0  4312      0.9281         1614\n",
       "CommonPrefixes                     300  108  4012      0.8603          408\n",
       "CommonSuffixes                      76   66  4236      0.7324          142\n",
       "Congenital Abnormality              33   51  4279      0.6569          102\n",
       "Disease or Syndrome               1304  503  3008      0.8687         2802\n",
       "Element, Ion, or Isotope             0    0  4312      1.0000          395\n",
       "EndNounPhrase                        0    0  4312      0.9877        28632\n",
       "Hazardous or Poisonous Substance     0    0  4312      0.9683          315\n",
       "Injury or Poisoning                239  137  4073      0.7462          461\n",
       "Inorganic Chemical                   0    0  4312      0.9858          422\n",
       "Mental or Behavioral Dysfunction   204  171  4108      0.6454          454\n",
       "Neoplastic Process                 196   97  4116      0.8188          469\n",
       "Organic Chemical                     0    0  4312      0.9933         3900\n",
       "Other Terms                        202   23  4110      1.0000          225\n",
       "OtherPOS                             0    0  4312      0.9937        38221\n",
       "Partial Terms                        6  449  4306      0.6031          456\n",
       "Pharmacologic Substance              0    0  4312      0.9801         4816\n",
       "Punctuation                          0    0  4312      0.9983        14490\n",
       "Sign or Symptom                    501  266  3811      0.7987          904\n",
       "StopWords                            0    0  4312      0.9937        21554\n",
       "Vitamin                              0    0  4312      1.0000          139"
      ]
     },
     "execution_count": 5,
     "metadata": {},
     "output_type": "execute_result"
    }
   ],
   "source": [
    "from wiser.eval import score_labeling_functions, score_labels_majority_vote\n",
    "score_labeling_functions(dev_data)"
   ]
  },
  {
   "cell_type": "markdown",
   "metadata": {},
   "source": [
    "## Majority Vote"
   ]
  },
  {
   "cell_type": "code",
   "execution_count": 14,
   "metadata": {},
   "outputs": [],
   "source": [
    "from wiser.eval import score_labels_majority_vote, get_mv_label_distribution\n",
    "from wiser.eval import get_unweighted_label_distribution\n",
    "from wiser.data.util import save_label_distribution"
   ]
  },
  {
   "cell_type": "code",
   "execution_count": 7,
   "metadata": {},
   "outputs": [
    {
     "data": {
      "text/html": [
       "<div>\n",
       "<style scoped>\n",
       "    .dataframe tbody tr th:only-of-type {\n",
       "        vertical-align: middle;\n",
       "    }\n",
       "\n",
       "    .dataframe tbody tr th {\n",
       "        vertical-align: top;\n",
       "    }\n",
       "\n",
       "    .dataframe thead th {\n",
       "        text-align: right;\n",
       "    }\n",
       "</style>\n",
       "<table border=\"1\" class=\"dataframe\">\n",
       "  <thead>\n",
       "    <tr style=\"text-align: right;\">\n",
       "      <th></th>\n",
       "      <th>TP</th>\n",
       "      <th>FP</th>\n",
       "      <th>FN</th>\n",
       "      <th>P</th>\n",
       "      <th>R</th>\n",
       "      <th>F1</th>\n",
       "    </tr>\n",
       "  </thead>\n",
       "  <tbody>\n",
       "    <tr>\n",
       "      <th>Majority Vote</th>\n",
       "      <td>2631</td>\n",
       "      <td>1243</td>\n",
       "      <td>1681</td>\n",
       "      <td>0.6791</td>\n",
       "      <td>0.6102</td>\n",
       "      <td>0.6428</td>\n",
       "    </tr>\n",
       "  </tbody>\n",
       "</table>\n",
       "</div>"
      ],
      "text/plain": [
       "                 TP    FP    FN       P       R      F1\n",
       "Majority Vote  2631  1243  1681  0.6791  0.6102  0.6428"
      ]
     },
     "execution_count": 7,
     "metadata": {},
     "output_type": "execute_result"
    }
   ],
   "source": [
    "score_labels_majority_vote(dev_data)"
   ]
  },
  {
   "cell_type": "code",
   "execution_count": 8,
   "metadata": {
    "scrolled": true
   },
   "outputs": [
    {
     "data": {
      "text/html": [
       "<div>\n",
       "<style scoped>\n",
       "    .dataframe tbody tr th:only-of-type {\n",
       "        vertical-align: middle;\n",
       "    }\n",
       "\n",
       "    .dataframe tbody tr th {\n",
       "        vertical-align: top;\n",
       "    }\n",
       "\n",
       "    .dataframe thead th {\n",
       "        text-align: right;\n",
       "    }\n",
       "</style>\n",
       "<table border=\"1\" class=\"dataframe\">\n",
       "  <thead>\n",
       "    <tr style=\"text-align: right;\">\n",
       "      <th></th>\n",
       "      <th>TP</th>\n",
       "      <th>FP</th>\n",
       "      <th>FN</th>\n",
       "      <th>P</th>\n",
       "      <th>R</th>\n",
       "      <th>F1</th>\n",
       "    </tr>\n",
       "  </thead>\n",
       "  <tbody>\n",
       "    <tr>\n",
       "      <th>Majority Vote (Token Level)</th>\n",
       "      <td>4387</td>\n",
       "      <td>793</td>\n",
       "      <td>2508</td>\n",
       "      <td>0.8469</td>\n",
       "      <td>0.6363</td>\n",
       "      <td>0.7266</td>\n",
       "    </tr>\n",
       "  </tbody>\n",
       "</table>\n",
       "</div>"
      ],
      "text/plain": [
       "                               TP   FP    FN       P       R      F1\n",
       "Majority Vote (Token Level)  4387  793  2508  0.8469  0.6363  0.7266"
      ]
     },
     "execution_count": 8,
     "metadata": {},
     "output_type": "execute_result"
    }
   ],
   "source": [
    "score_labels_majority_vote(dev_data, span_level=False)"
   ]
  },
  {
   "cell_type": "code",
   "execution_count": 9,
   "metadata": {},
   "outputs": [],
   "source": [
    "dist = get_mv_label_distribution(train_data, disc_label_to_ix, 'O')\n",
    "save_label_distribution('data/train_data_mv_labels.p', train_data, dist)"
   ]
  },
  {
   "cell_type": "code",
   "execution_count": 10,
   "metadata": {},
   "outputs": [],
   "source": [
    "dist = get_unweighted_label_distribution(train_data, disc_label_to_ix, 'O')\n",
    "save_label_distribution('data/train_data_unweighted_labels.p', train_data, dist)"
   ]
  },
  {
   "cell_type": "markdown",
   "metadata": {},
   "source": [
    "## Generative Modeling"
   ]
  },
  {
   "cell_type": "code",
   "execution_count": 5,
   "metadata": {},
   "outputs": [],
   "source": [
    "from experiments.util import train_generative_model, get_gen_model_inputs\n",
    "from labelmodels.hmm import HMM\n",
    "from labelmodels.label_model import LearningConfig\n",
    "from labelmodels.linked_hmm import LinkedHMM\n",
    "from labelmodels.naive_bayes import NaiveBayes\n",
    "import numpy as np"
   ]
  },
  {
   "cell_type": "code",
   "execution_count": 6,
   "metadata": {},
   "outputs": [],
   "source": [
    "num_classes = 2\n",
    "epochs = 10\n",
    "\n",
    "labeling_functions = set()\n",
    "linking_functions = set()\n",
    "for doc in train_data:\n",
    "    for name in doc['WISER_LABELS'].keys():\n",
    "        labeling_functions.add(name)\n",
    "    for name in doc['WISER_LINKS'].keys():\n",
    "        linking_functions.add(name)"
   ]
  },
  {
   "cell_type": "markdown",
   "metadata": {},
   "source": [
    "### Naive Bayes"
   ]
  },
  {
   "cell_type": "code",
   "execution_count": 7,
   "metadata": {
    "scrolled": true
   },
   "outputs": [],
   "source": [
    "config = LearningConfig()\n",
    "config.batch_size = 16\n",
    "nb = NaiveBayes(len(disc_label_to_ix), len(labeling_functions), init_acc=0.7,\n",
    "                   acc_prior=0.5, balance_prior=1.0)\n",
    "p, r, f1 = train_generative_model(nb, train_data, dev_data,\n",
    "                                  5, gen_label_to_ix, config)"
   ]
  },
  {
   "cell_type": "code",
   "execution_count": 8,
   "metadata": {},
   "outputs": [
    {
     "name": "stdout",
     "output_type": "stream",
     "text": [
      "0.6791\n",
      "0.6102\n",
      "0.6428\n"
     ]
    }
   ],
   "source": [
    "print(p)\n",
    "print(r)\n",
    "print(f1)"
   ]
  },
  {
   "cell_type": "code",
   "execution_count": 9,
   "metadata": {},
   "outputs": [],
   "source": [
    "label_votes, link_votes, seq_starts = get_gen_model_inputs(train_data, gen_label_to_ix)\n",
    "dist = nb.get_label_distribution(label_votes)"
   ]
  },
  {
   "cell_type": "code",
   "execution_count": 10,
   "metadata": {},
   "outputs": [],
   "source": [
    "save_label_distribution('data/train_data_nb_labels.p', train_data, dist)"
   ]
  },
  {
   "cell_type": "markdown",
   "metadata": {},
   "source": [
    "### HMM"
   ]
  },
  {
   "cell_type": "code",
   "execution_count": 18,
   "metadata": {
    "scrolled": true
   },
   "outputs": [],
   "source": [
    "config = LearningConfig()\n",
    "config.batch_size = 16\n",
    "model = HMM(len(disc_label_to_ix), len(labeling_functions), init_acc=0.9,\n",
    "                   acc_prior=100, balance_prior=500)\n",
    "p, r, f1 = train_generative_model(model, train_data, dev_data,\n",
    "                                  5, gen_label_to_ix, config)"
   ]
  },
  {
   "cell_type": "code",
   "execution_count": 19,
   "metadata": {},
   "outputs": [
    {
     "name": "stdout",
     "output_type": "stream",
     "text": [
      "0.6785\n",
      "0.6122\n",
      "0.6436\n"
     ]
    }
   ],
   "source": [
    "print(p)\n",
    "print(r)\n",
    "print(f1)"
   ]
  },
  {
   "cell_type": "code",
   "execution_count": 20,
   "metadata": {},
   "outputs": [],
   "source": [
    "label_votes, link_votes, seq_starts = get_gen_model_inputs(train_data, gen_label_to_ix)\n",
    "p_unary, p_pairwise = model.get_label_distribution(label_votes, seq_starts)"
   ]
  },
  {
   "cell_type": "code",
   "execution_count": 21,
   "metadata": {},
   "outputs": [],
   "source": [
    "save_label_distribution('data/train_data_hmm_labels.p', train_data, p_unary, p_pairwise)"
   ]
  },
  {
   "cell_type": "markdown",
   "metadata": {},
   "source": [
    "### Linked HMM"
   ]
  },
  {
   "cell_type": "code",
   "execution_count": 22,
   "metadata": {},
   "outputs": [],
   "source": [
    "config = LearningConfig()\n",
    "config.batch_size = 16\n",
    "link_hmm = LinkedHMM(len(disc_label_to_ix), len(labeling_functions), len(linking_functions),\n",
    "                  init_acc=0.9, acc_prior=100, balance_prior=500)\n",
    "p, r, f1 = train_generative_model(link_hmm, train_data, dev_data,\n",
    "                                  5, gen_label_to_ix, config)"
   ]
  },
  {
   "cell_type": "code",
   "execution_count": 23,
   "metadata": {},
   "outputs": [
    {
     "name": "stdout",
     "output_type": "stream",
     "text": [
      "0.7424\n",
      "0.6276\n",
      "0.6802\n"
     ]
    }
   ],
   "source": [
    "print(p)\n",
    "print(r)\n",
    "print(f1)"
   ]
  },
  {
   "cell_type": "code",
   "execution_count": 24,
   "metadata": {},
   "outputs": [],
   "source": [
    "label_votes, link_votes, seq_starts = get_gen_model_inputs(train_data, gen_label_to_ix)\n",
    "p_unary, p_pairwise = link_hmm.get_label_distribution(label_votes, link_votes, seq_starts)"
   ]
  },
  {
   "cell_type": "code",
   "execution_count": 26,
   "metadata": {},
   "outputs": [],
   "source": [
    "save_label_distribution('data/train_data_link_hmm_labels.p', train_data, p_unary, p_pairwise)"
   ]
  }
 ],
 "metadata": {
  "kernelspec": {
   "display_name": "Python 3",
   "language": "python",
   "name": "python3"
  },
  "language_info": {
   "codemirror_mode": {
    "name": "ipython",
    "version": 3
   },
   "file_extension": ".py",
   "mimetype": "text/x-python",
   "name": "python",
   "nbconvert_exporter": "python",
   "pygments_lexer": "ipython3",
   "version": "3.7.0"
  }
 },
 "nbformat": 4,
 "nbformat_minor": 2
}
